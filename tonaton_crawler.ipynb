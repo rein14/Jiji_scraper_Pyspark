{
 "cells": [
  {
   "cell_type": "code",
   "execution_count": 32,
   "metadata": {},
   "outputs": [],
   "source": [
    "import os\n",
    "import time\n",
    "import pandas as pd\n",
    "import requests\n",
    "from bs4 import BeautifulSoup\n",
    "from pyspark import SparkContext, SparkConf\n",
    "from pyspark.sql import SparkSession, SQLContext\n",
    "from pyspark.sql.functions import regexp_replace\n",
    "from pyspark.sql.types import IntegerType,DoubleType\n",
    "from pyspark.sql.functions import col\n"
   ]
  },
  {
   "cell_type": "code",
   "execution_count": 191,
   "metadata": {},
   "outputs": [],
   "source": [
    "input = \"input_data\"\n",
    "output = \"output_data\"\n",
    "input_path = os.path.join(os.curdir, input)\n",
    "output_path = os.path.join(os.curdir, output)\n",
    "if not os.path.exists(input_path):\n",
    "    os.mkdir(input_path)\n",
    "    print(f\"Directory created: {input}\")\n",
    "\n",
    "if not os.path.exists(output_path):\n",
    "    os.mkdir(output_path)\n",
    "    print(f\"Directory created: {output}\")"
   ]
  },
  {
   "cell_type": "code",
   "execution_count": 198,
   "metadata": {},
   "outputs": [
    {
     "name": "stdout",
     "output_type": "stream",
     "text": [
      "Fetching data...\n"
     ]
    }
   ],
   "source": [
    "def get_category(url, file_name):\n",
    "    product_list = []\n",
    "\n",
    "    pages = 150\n",
    "\n",
    "    for page in range(1, pages):\n",
    "        resp = requests.get(url+f\"?page={page}\")\n",
    "        content = BeautifulSoup(resp.content, \"html.parser\")\n",
    "        for product in content.select(\"div.product__content\"):\n",
    "            try:\n",
    "                data = {\n",
    "                    \"Title\": product.select(\"span.product__title\")[0].get_text().strip(),\n",
    "                    \"Location\": product.select(\"p.product__location\")[0].get_text().strip(),\n",
    "                    \"description\": product.select(\"p.product__description\")[0].get_text().strip(),\n",
    "                    \"Condition\": product.select(\"div.product__tags span\")[0].get_text().strip()\n",
    "                }\n",
    "            except IndexError:\n",
    "                continue\n",
    "        \n",
    "            product_list.append(data)\n",
    "        time.sleep(2)\n",
    "        print(f\"fetching page {page}\")\n",
    "    dataframe = pd.DataFrame(product_list)\n",
    "    print(dataframe)\n",
    "    dataframe.to_csv(file_name)\n",
    "\n",
    "url =\"https://tonaton.com/c_vehicles\"\n",
    "print(\"fetching data...\")\n",
    "get_category(url, f\"{input_path}/pro.csv\")\n",
    "print(\"Fetching data...\")"
   ]
  },
  {
   "cell_type": "code",
   "execution_count": 219,
   "metadata": {},
   "outputs": [],
   "source": [
    "\n",
    "conf = SparkConf() \\\n",
    "    .setAppName(\"jiji-scraper-etl\") \\\n",
    "    .setMaster(\"local\") \\\n",
    "    .set(\"spark.driver.extraClassPath\",\"c:/pyspark/*\")\n",
    "sc = SparkContext.getOrCreate(conf=conf)\n",
    "etl = SparkSession(sc)"
   ]
  },
  {
   "cell_type": "code",
   "execution_count": 293,
   "metadata": {},
   "outputs": [],
   "source": [
    "df=etl.read.option(\"header\",True).csv(\"./input_data/pro.csv\")"
   ]
  },
  {
   "cell_type": "code",
   "execution_count": 294,
   "metadata": {},
   "outputs": [
    {
     "name": "stdout",
     "output_type": "stream",
     "text": [
      "+---+-----------+--------------------+--------------------+------------+\n",
      "|_c0|      Title|            Location|         description|   Condition|\n",
      "+---+-----------+--------------------+--------------------+------------+\n",
      "|  0|GH₵ 355,000|Greater Accra, Ea...|Mercedes-Benz E30...|Foreign Used|\n",
      "|  1|    GH₵ 150|Greater Accra, Ab...|Toyota Ignition Coil|        Used|\n",
      "|  2|    GH₵ 250|Greater Accra, Ab...|        Toyota Tyres|   Brand New|\n",
      "|  3|  GH₵ 1,100|Greater Accra, Ab...|     Ford F150 Tires|   Brand New|\n",
      "|  4|    GH₵ 200|Greater Accra, Ab...|Jack and Wheel Sp...|   Brand New|\n",
      "|  5|  GH₵ 1,000|Greater Accra, Ab...|       Seat Covers20|   Brand New|\n",
      "|  6|  GH₵ 1,000|Greater Accra, Ab...|Luxury Black 9D S...|   Brand New|\n",
      "|  7|    GH₵ 350|Greater Accra, Ac...|All Kinds of Body...|   Brand New|\n",
      "|  8|    GH₵ 100|Greater Accra, Ab...|  Lower Arm Bushings|   Brand New|\n",
      "|  9| GH₵ 20,000|Greater Accra, Ab...|(Corolla-2020)All...|        Used|\n",
      "| 10|    GH₵ 300|Greater Accra, Ab...|Rim 15 Ring Wheel...|   Brand New|\n",
      "| 11|    GH₵ 600|Greater Accra, Ab...|   Gucci Seat Covers|   Brand New|\n",
      "| 12|    GH₵ 400|Greater Accra, Ab...|       Police Lights|   Brand New|\n",
      "| 13|    GH₵ 400|Greater Accra, Ab...|   Brown Seat Covers|   Brand New|\n",
      "| 14|     GH₵ 80|Greater Accra, Ab...|  Fire Extinguishers|   Brand New|\n",
      "| 15|    GH₵ 200|Greater Accra, Ab...|  Seat Support Black|   Brand New|\n",
      "| 16|    GH₵ 300|Greater Accra, Ab...|    Grey Seat Cover/|   Brand New|\n",
      "| 17|    GH₵ 200|Greater Accra, Ab...|      Fender Linning|   Brand New|\n",
      "| 18|    GH₵ 200|Greater Accra, Ab...|Jack and Wheel Sp...|   Brand New|\n",
      "| 19|    GH₵ 850|Greater Accra, Ab...|Universal Towing ...|   Brand New|\n",
      "+---+-----------+--------------------+--------------------+------------+\n",
      "only showing top 20 rows\n",
      "\n"
     ]
    }
   ],
   "source": [
    "df.show()"
   ]
  },
  {
   "cell_type": "code",
   "execution_count": 295,
   "metadata": {},
   "outputs": [],
   "source": [
    "df=df.select(\n",
    "    \"_c0\",\n",
    "    \"description\",\n",
    "    \"Condition\",\n",
    "    \"title\",\n",
    "    \"Location\"\n",
    ").withColumnRenamed('title', 'Price').withColumnRenamed('description', 'Description').withColumnRenamed('_c0','id').\\\n",
    "    withColumn('Price', regexp_replace('Price', r'[GH₵]', '')).withColumn('Price', regexp_replace('Price', r'[,]', '')).\\\n",
    "        withColumn(\"id\", col(\"id\").cast(IntegerType())).withColumn(\"price\", col(\"price\").cast(IntegerType()))\n",
    "   "
   ]
  },
  {
   "cell_type": "code",
   "execution_count": 296,
   "metadata": {},
   "outputs": [
    {
     "name": "stdout",
     "output_type": "stream",
     "text": [
      "+---+--------------------+------------+------+--------------------+\n",
      "| id|         Description|   Condition| price|            Location|\n",
      "+---+--------------------+------------+------+--------------------+\n",
      "|  0|Mercedes-Benz E30...|Foreign Used|355000|Greater Accra, Ea...|\n",
      "|  1|Toyota Ignition Coil|        Used|   150|Greater Accra, Ab...|\n",
      "|  2|        Toyota Tyres|   Brand New|   250|Greater Accra, Ab...|\n",
      "|  3|     Ford F150 Tires|   Brand New|  1100|Greater Accra, Ab...|\n",
      "|  4|Jack and Wheel Sp...|   Brand New|   200|Greater Accra, Ab...|\n",
      "|  5|       Seat Covers20|   Brand New|  1000|Greater Accra, Ab...|\n",
      "|  6|Luxury Black 9D S...|   Brand New|  1000|Greater Accra, Ab...|\n",
      "|  7|All Kinds of Body...|   Brand New|   350|Greater Accra, Ac...|\n",
      "|  8|  Lower Arm Bushings|   Brand New|   100|Greater Accra, Ab...|\n",
      "|  9|(Corolla-2020)All...|        Used| 20000|Greater Accra, Ab...|\n",
      "| 10|Rim 15 Ring Wheel...|   Brand New|   300|Greater Accra, Ab...|\n",
      "| 11|   Gucci Seat Covers|   Brand New|   600|Greater Accra, Ab...|\n",
      "| 12|       Police Lights|   Brand New|   400|Greater Accra, Ab...|\n",
      "| 13|   Brown Seat Covers|   Brand New|   400|Greater Accra, Ab...|\n",
      "| 14|  Fire Extinguishers|   Brand New|    80|Greater Accra, Ab...|\n",
      "| 15|  Seat Support Black|   Brand New|   200|Greater Accra, Ab...|\n",
      "| 16|    Grey Seat Cover/|   Brand New|   300|Greater Accra, Ab...|\n",
      "| 17|      Fender Linning|   Brand New|   200|Greater Accra, Ab...|\n",
      "| 18|Jack and Wheel Sp...|   Brand New|   200|Greater Accra, Ab...|\n",
      "| 19|Universal Towing ...|   Brand New|   850|Greater Accra, Ab...|\n",
      "+---+--------------------+------------+------+--------------------+\n",
      "only showing top 20 rows\n",
      "\n"
     ]
    }
   ],
   "source": [
    "df.show()"
   ]
  },
  {
   "cell_type": "code",
   "execution_count": 297,
   "metadata": {},
   "outputs": [
    {
     "name": "stdout",
     "output_type": "stream",
     "text": [
      "root\n",
      " |-- id: integer (nullable = true)\n",
      " |-- Description: string (nullable = true)\n",
      " |-- Condition: string (nullable = true)\n",
      " |-- price: integer (nullable = true)\n",
      " |-- Location: string (nullable = true)\n",
      "\n"
     ]
    }
   ],
   "source": [
    "df.printSchema()"
   ]
  },
  {
   "cell_type": "code",
   "execution_count": 298,
   "metadata": {},
   "outputs": [],
   "source": [
    "df = df.toPandas()\n",
    "df.to_csv(output_path+'/output.csv')"
   ]
  },
  {
   "cell_type": "code",
   "execution_count": 307,
   "metadata": {},
   "outputs": [],
   "source": [
    "import psycopg2\n",
    "import o\n",
    "def connect_db():\n",
    "    conn = psycopg2.connect(f\"host=127.0.0.1 dbname=tutorial user=etl password=demopass\")\n",
    "    conn.set_session(autocommit=True)\n",
    "    cur = conn.cursor()\n",
    "    \n",
    "    return cur, conn"
   ]
  },
  {
   "cell_type": "code",
   "execution_count": 308,
   "metadata": {},
   "outputs": [],
   "source": [
    "cur, conn = connect_db()\n"
   ]
  },
  {
   "cell_type": "code",
   "execution_count": 309,
   "metadata": {},
   "outputs": [],
   "source": [
    "product_table = (\n",
    "    \"\"\"CREATE TABLE IF NOT EXISTS product(\n",
    "        id INT PRIMARY KEY,\n",
    "        Description VARCHAR,\n",
    "        Condition VARCHAR,\n",
    "        Price INT,\n",
    "        Location VARCHAR\n",
    "    )\"\"\"\n",
    ")"
   ]
  },
  {
   "cell_type": "code",
   "execution_count": 310,
   "metadata": {},
   "outputs": [],
   "source": [
    "cur.execute(product_table)\n",
    "conn.commit()\n"
   ]
  },
  {
   "cell_type": "code",
   "execution_count": 311,
   "metadata": {},
   "outputs": [],
   "source": [
    "product_table_insert = (\n",
    "    \"\"\"INSERT INTO product(\n",
    "        id,\n",
    "        Description,\n",
    "        Condition,\n",
    "        Price,\n",
    "        Location)\n",
    "    VALUES (%s, %s, %s, %s, %s)\n",
    "    \"\"\"\n",
    ")"
   ]
  },
  {
   "cell_type": "code",
   "execution_count": 312,
   "metadata": {},
   "outputs": [],
   "source": [
    "for i, row in df.iterrows():\n",
    "    cur.execute(product_table_insert, list(row))\n",
    "    "
   ]
  },
  {
   "cell_type": "code",
   "execution_count": 313,
   "metadata": {},
   "outputs": [],
   "source": [
    "conn.commit()"
   ]
  },
  {
   "cell_type": "code",
   "execution_count": 305,
   "metadata": {},
   "outputs": [],
   "source": [
    "# cur.execute(\"\"\"DROP TABLE IF EXISTS product\"\"\")"
   ]
  }
 ],
 "metadata": {
  "kernelspec": {
   "display_name": "base",
   "language": "python",
   "name": "python3"
  },
  "language_info": {
   "codemirror_mode": {
    "name": "ipython",
    "version": 3
   },
   "file_extension": ".py",
   "mimetype": "text/x-python",
   "name": "python",
   "nbconvert_exporter": "python",
   "pygments_lexer": "ipython3",
   "version": "3.9.12 (main, Apr  4 2022, 05:22:27) [MSC v.1916 64 bit (AMD64)]"
  },
  "orig_nbformat": 4,
  "vscode": {
   "interpreter": {
    "hash": "2043299c89c8cd0b4d1a6f5cf4529bd58e6a4e0fe3181a25e0d328c821cdc5c5"
   }
  }
 },
 "nbformat": 4,
 "nbformat_minor": 2
}
