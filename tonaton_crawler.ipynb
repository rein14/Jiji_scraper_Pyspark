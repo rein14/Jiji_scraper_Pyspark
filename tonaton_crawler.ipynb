{
 "cells": [
  {
   "cell_type": "code",
   "execution_count": 28,
   "metadata": {},
   "outputs": [],
   "source": [
    "import os\n",
    "import sys\n",
    "import time\n",
    "import pandas as pd\n",
    "import requests\n",
    "from bs4 import BeautifulSoup\n",
    "from pyspark import SparkContext, SparkConf\n",
    "from pyspark.sql import SparkSession, SQLContext\n",
    "from pyspark.sql.functions import regexp_replace\n",
    "from pyspark.sql.types import IntegerType,DoubleType\n",
    "from pyspark.sql.functions import col, split"
   ]
  },
  {
   "cell_type": "code",
   "execution_count": 8,
   "metadata": {},
   "outputs": [],
   "source": [
    "input = \"input_data\"\n",
    "output = \"output_data\"\n",
    "input_path = os.path.join(os.curdir, input)\n",
    "output_path = os.path.join(os.curdir, output)\n",
    "if not os.path.exists(input_path):\n",
    "    os.mkdir(input_path)\n",
    "    print(f\"Directory created: {input}\")\n",
    "\n",
    "if not os.path.exists(output_path):\n",
    "    os.mkdir(output_path)\n",
    "    print(f\"Directory created: {output}\")"
   ]
  },
  {
   "cell_type": "code",
   "execution_count": 9,
   "metadata": {},
   "outputs": [
    {
     "name": "stdout",
     "output_type": "stream",
     "text": [
      "fetching data...\n"
     ]
    }
   ],
   "source": [
    "url =\"https://tonaton.com/c_cars\"\n",
    "file_name = f\"{input_path}/c_cars.csv\"\n",
    "pages = 5\n",
    "\n",
    "product_list = []\n",
    "print(\"fetching data...\")\n",
    "for page in range(1, pages):\n",
    "    resp = requests.get(url+f\"?page={page}\")\n",
    "    content = BeautifulSoup(resp.content, \"html.parser\")\n",
    "    for product in content.select(\"div.product__content\"):\n",
    "        try:\n",
    "            data = {\n",
    "                \"Title\": product.select(\"span.product__title\")[0].get_text().strip(),\n",
    "                \"Location\": product.select(\"p.product__location\")[0].get_text().strip(),\n",
    "                \"description\": product.select(\"p.product__description\")[0].get_text().strip(),\n",
    "                \"Condition\": product.select(\"div.product__tags span\")[0].get_text().strip()\n",
    "            }\n",
    "        except IndexError:\n",
    "            continue  \n",
    "        product_list.append(data)\n",
    "    time.sleep(1)\n",
    "    # print(f\"fetching page {page}\")\n",
    "\n",
    "df = pd.DataFrame(product_list)\n",
    "df.to_csv(file_name)\n"
   ]
  },
  {
   "cell_type": "code",
   "execution_count": 32,
   "metadata": {},
   "outputs": [],
   "source": [
    "os.environ['PYSPARK_PYTHON'] = sys.executable\n",
    "os.environ['PYSPARK_DRIVER_PYTHON'] = sys.executable\n",
    "conf = SparkConf() \\\n",
    "    .setAppName(\"app\") \\\n",
    "    .setMaster(\"local[*]\") \\\n",
    "    .set(\"spark.driver.extraClassPath\",\"c:/pyspark/*\") \\\n",
    "    .set(\"spark.driver.memory\", \"5g\") \n",
    "sc = SparkContext.getOrCreate(conf=conf)\n",
    "etl = SparkSession(sc)\n"
   ]
  },
  {
   "cell_type": "code",
   "execution_count": 69,
   "metadata": {},
   "outputs": [],
   "source": [
    "df=etl.read.option(\"header\",True).csv(\"./input_data/pro.csv\")"
   ]
  },
  {
   "cell_type": "code",
   "execution_count": 70,
   "metadata": {},
   "outputs": [
    {
     "name": "stdout",
     "output_type": "stream",
     "text": [
      "+---+-----------+--------------------+--------------------+------------+\n",
      "|_c0|      Title|            Location|         description|   Condition|\n",
      "+---+-----------+--------------------+--------------------+------------+\n",
      "|  0|GH₵ 355,000|Greater Accra, Ea...|Mercedes-Benz E30...|Foreign Used|\n",
      "|  1|    GH₵ 150|Greater Accra, Ab...|Toyota Ignition Coil|        Used|\n",
      "|  2|    GH₵ 250|Greater Accra, Ab...|        Toyota Tyres|   Brand New|\n",
      "|  3|  GH₵ 1,100|Greater Accra, Ab...|     Ford F150 Tires|   Brand New|\n",
      "|  4|    GH₵ 200|Greater Accra, Ab...|Jack and Wheel Sp...|   Brand New|\n",
      "|  5|  GH₵ 1,000|Greater Accra, Ab...|       Seat Covers20|   Brand New|\n",
      "|  6|  GH₵ 1,000|Greater Accra, Ab...|Luxury Black 9D S...|   Brand New|\n",
      "|  7|    GH₵ 350|Greater Accra, Ac...|All Kinds of Body...|   Brand New|\n",
      "|  8|    GH₵ 100|Greater Accra, Ab...|  Lower Arm Bushings|   Brand New|\n",
      "|  9| GH₵ 20,000|Greater Accra, Ab...|(Corolla-2020)All...|        Used|\n",
      "| 10|    GH₵ 300|Greater Accra, Ab...|Rim 15 Ring Wheel...|   Brand New|\n",
      "| 11|    GH₵ 600|Greater Accra, Ab...|   Gucci Seat Covers|   Brand New|\n",
      "| 12|    GH₵ 400|Greater Accra, Ab...|       Police Lights|   Brand New|\n",
      "| 13|    GH₵ 400|Greater Accra, Ab...|   Brown Seat Covers|   Brand New|\n",
      "| 14|     GH₵ 80|Greater Accra, Ab...|  Fire Extinguishers|   Brand New|\n",
      "| 15|    GH₵ 200|Greater Accra, Ab...|  Seat Support Black|   Brand New|\n",
      "| 16|    GH₵ 300|Greater Accra, Ab...|    Grey Seat Cover/|   Brand New|\n",
      "| 17|    GH₵ 200|Greater Accra, Ab...|      Fender Linning|   Brand New|\n",
      "| 18|    GH₵ 200|Greater Accra, Ab...|Jack and Wheel Sp...|   Brand New|\n",
      "| 19|    GH₵ 850|Greater Accra, Ab...|Universal Towing ...|   Brand New|\n",
      "+---+-----------+--------------------+--------------------+------------+\n",
      "only showing top 20 rows\n",
      "\n"
     ]
    }
   ],
   "source": [
    "df.show()"
   ]
  },
  {
   "cell_type": "code",
   "execution_count": 71,
   "metadata": {},
   "outputs": [],
   "source": [
    "df=df.select(\n",
    "    \"_c0\",\n",
    "    \"description\",\n",
    "    \"Condition\",\n",
    "    \"title\",\n",
    "    \"Location\"\n",
    ").withColumnRenamed('title', 'Price').withColumnRenamed('description', 'Description').withColumnRenamed('_c0','id').\\\n",
    "    withColumn('Price', regexp_replace('Price', r'[GH₵]', '')). \\\n",
    "        withColumn('Price', regexp_replace('Price', r'[,]', '')). \\\n",
    "            withColumn(\"id\", col(\"id\").cast(IntegerType())). \\\n",
    "                withColumn(\"price\", col(\"price\").cast(IntegerType()))\n",
    "   "
   ]
  },
  {
   "cell_type": "code",
   "execution_count": 72,
   "metadata": {},
   "outputs": [
    {
     "name": "stdout",
     "output_type": "stream",
     "text": [
      "+---+--------------------+------------+------+--------------------+\n",
      "| id|         Description|   Condition| price|            Location|\n",
      "+---+--------------------+------------+------+--------------------+\n",
      "|  0|Mercedes-Benz E30...|Foreign Used|355000|Greater Accra, Ea...|\n",
      "|  1|Toyota Ignition Coil|        Used|   150|Greater Accra, Ab...|\n",
      "|  2|        Toyota Tyres|   Brand New|   250|Greater Accra, Ab...|\n",
      "|  3|     Ford F150 Tires|   Brand New|  1100|Greater Accra, Ab...|\n",
      "|  4|Jack and Wheel Sp...|   Brand New|   200|Greater Accra, Ab...|\n",
      "|  5|       Seat Covers20|   Brand New|  1000|Greater Accra, Ab...|\n",
      "|  6|Luxury Black 9D S...|   Brand New|  1000|Greater Accra, Ab...|\n",
      "|  7|All Kinds of Body...|   Brand New|   350|Greater Accra, Ac...|\n",
      "|  8|  Lower Arm Bushings|   Brand New|   100|Greater Accra, Ab...|\n",
      "|  9|(Corolla-2020)All...|        Used| 20000|Greater Accra, Ab...|\n",
      "| 10|Rim 15 Ring Wheel...|   Brand New|   300|Greater Accra, Ab...|\n",
      "| 11|   Gucci Seat Covers|   Brand New|   600|Greater Accra, Ab...|\n",
      "| 12|       Police Lights|   Brand New|   400|Greater Accra, Ab...|\n",
      "| 13|   Brown Seat Covers|   Brand New|   400|Greater Accra, Ab...|\n",
      "| 14|  Fire Extinguishers|   Brand New|    80|Greater Accra, Ab...|\n",
      "| 15|  Seat Support Black|   Brand New|   200|Greater Accra, Ab...|\n",
      "| 16|    Grey Seat Cover/|   Brand New|   300|Greater Accra, Ab...|\n",
      "| 17|      Fender Linning|   Brand New|   200|Greater Accra, Ab...|\n",
      "| 18|Jack and Wheel Sp...|   Brand New|   200|Greater Accra, Ab...|\n",
      "| 19|Universal Towing ...|   Brand New|   850|Greater Accra, Ab...|\n",
      "+---+--------------------+------------+------+--------------------+\n",
      "only showing top 20 rows\n",
      "\n"
     ]
    }
   ],
   "source": [
    "df.show()"
   ]
  },
  {
   "cell_type": "code",
   "execution_count": 73,
   "metadata": {},
   "outputs": [
    {
     "data": {
      "text/html": [
       "<div>\n",
       "<style scoped>\n",
       "    .dataframe tbody tr th:only-of-type {\n",
       "        vertical-align: middle;\n",
       "    }\n",
       "\n",
       "    .dataframe tbody tr th {\n",
       "        vertical-align: top;\n",
       "    }\n",
       "\n",
       "    .dataframe thead th {\n",
       "        text-align: right;\n",
       "    }\n",
       "</style>\n",
       "<table border=\"1\" class=\"dataframe\">\n",
       "  <thead>\n",
       "    <tr style=\"text-align: right;\">\n",
       "      <th></th>\n",
       "      <th>id</th>\n",
       "      <th>Description</th>\n",
       "      <th>Condition</th>\n",
       "      <th>price</th>\n",
       "      <th>Location</th>\n",
       "    </tr>\n",
       "  </thead>\n",
       "  <tbody>\n",
       "    <tr>\n",
       "      <th>0</th>\n",
       "      <td>0</td>\n",
       "      <td>0</td>\n",
       "      <td>0</td>\n",
       "      <td>0</td>\n",
       "      <td>0</td>\n",
       "    </tr>\n",
       "  </tbody>\n",
       "</table>\n",
       "</div>"
      ],
      "text/plain": [
       "   id  Description  Condition  price  Location\n",
       "0   0            0          0      0         0"
      ]
     },
     "execution_count": 73,
     "metadata": {},
     "output_type": "execute_result"
    }
   ],
   "source": [
    "from pyspark.sql.functions import isnan, when, count, col\n",
    "\n",
    "df.select([count(when(isnan(c), c)).alias(c) for c in df.columns]).toPandas().head()"
   ]
  },
  {
   "cell_type": "code",
   "execution_count": 74,
   "metadata": {},
   "outputs": [],
   "source": [
    "\n",
    "def udf_region(location):\n",
    "    if location.startswith(\"Greater\"):\n",
    "        return \"Greater Accra region\"\n",
    "    if location.startswith(\"Ashanti\"):\n",
    "        return \"Ashanti region\"\n",
    "    if location.startswith(\"Eastern\"):\n",
    "        return \"Eastern region\"\n",
    "    else:\n",
    "        return \"Other region\""
   ]
  },
  {
   "cell_type": "code",
   "execution_count": 75,
   "metadata": {},
   "outputs": [
    {
     "name": "stdout",
     "output_type": "stream",
     "text": [
      "+---+--------------------+------------+------+--------------------+--------------------+\n",
      "| id|         Description|   Condition| price|            Location|              Region|\n",
      "+---+--------------------+------------+------+--------------------+--------------------+\n",
      "|  0|Mercedes-Benz E30...|Foreign Used|355000|Greater Accra, Ea...|Greater Accra region|\n",
      "|  1|Toyota Ignition Coil|        Used|   150|Greater Accra, Ab...|Greater Accra region|\n",
      "|  2|        Toyota Tyres|   Brand New|   250|Greater Accra, Ab...|Greater Accra region|\n",
      "|  3|     Ford F150 Tires|   Brand New|  1100|Greater Accra, Ab...|Greater Accra region|\n",
      "|  4|Jack and Wheel Sp...|   Brand New|   200|Greater Accra, Ab...|Greater Accra region|\n",
      "|  5|       Seat Covers20|   Brand New|  1000|Greater Accra, Ab...|Greater Accra region|\n",
      "|  6|Luxury Black 9D S...|   Brand New|  1000|Greater Accra, Ab...|Greater Accra region|\n",
      "|  7|All Kinds of Body...|   Brand New|   350|Greater Accra, Ac...|Greater Accra region|\n",
      "|  8|  Lower Arm Bushings|   Brand New|   100|Greater Accra, Ab...|Greater Accra region|\n",
      "|  9|(Corolla-2020)All...|        Used| 20000|Greater Accra, Ab...|Greater Accra region|\n",
      "| 10|Rim 15 Ring Wheel...|   Brand New|   300|Greater Accra, Ab...|Greater Accra region|\n",
      "| 11|   Gucci Seat Covers|   Brand New|   600|Greater Accra, Ab...|Greater Accra region|\n",
      "| 12|       Police Lights|   Brand New|   400|Greater Accra, Ab...|Greater Accra region|\n",
      "| 13|   Brown Seat Covers|   Brand New|   400|Greater Accra, Ab...|Greater Accra region|\n",
      "| 14|  Fire Extinguishers|   Brand New|    80|Greater Accra, Ab...|Greater Accra region|\n",
      "| 15|  Seat Support Black|   Brand New|   200|Greater Accra, Ab...|Greater Accra region|\n",
      "| 16|    Grey Seat Cover/|   Brand New|   300|Greater Accra, Ab...|Greater Accra region|\n",
      "| 17|      Fender Linning|   Brand New|   200|Greater Accra, Ab...|Greater Accra region|\n",
      "| 18|Jack and Wheel Sp...|   Brand New|   200|Greater Accra, Ab...|Greater Accra region|\n",
      "| 19|Universal Towing ...|   Brand New|   850|Greater Accra, Ab...|Greater Accra region|\n",
      "+---+--------------------+------------+------+--------------------+--------------------+\n",
      "only showing top 20 rows\n",
      "\n"
     ]
    }
   ],
   "source": [
    "from pyspark.sql.functions import udf\n",
    "from pyspark.sql.types import StringType\n",
    "udf = udf(udf_region, StringType())\n",
    "df = df.withColumn('Region', udf('Location'))\n",
    "df.show()"
   ]
  },
  {
   "cell_type": "code",
   "execution_count": 76,
   "metadata": {},
   "outputs": [
    {
     "name": "stdout",
     "output_type": "stream",
     "text": [
      "+---+--------------------+------------+------+--------------------+-------------------+\n",
      "| id|         Description|   Condition| price|              Region|           Location|\n",
      "+---+--------------------+------------+------+--------------------+-------------------+\n",
      "|  0|Mercedes-Benz E30...|Foreign Used|355000|Greater Accra region|         East Legon|\n",
      "|  1|Toyota Ignition Coil|        Used|   150|Greater Accra region|       Abossey Okai|\n",
      "|  2|        Toyota Tyres|   Brand New|   250|Greater Accra region|       Abossey Okai|\n",
      "|  3|     Ford F150 Tires|   Brand New|  1100|Greater Accra region|       Abossey Okai|\n",
      "|  4|Jack and Wheel Sp...|   Brand New|   200|Greater Accra region|       Abossey Okai|\n",
      "|  5|       Seat Covers20|   Brand New|  1000|Greater Accra region|       Abossey Okai|\n",
      "|  6|Luxury Black 9D S...|   Brand New|  1000|Greater Accra region|       Abossey Okai|\n",
      "|  7|All Kinds of Body...|   Brand New|   350|Greater Accra region| Accra Metropolitan|\n",
      "|  8|  Lower Arm Bushings|   Brand New|   100|Greater Accra region|       Abossey Okai|\n",
      "|  9|(Corolla-2020)All...|        Used| 20000|Greater Accra region|       Abossey Okai|\n",
      "| 10|Rim 15 Ring Wheel...|   Brand New|   300|Greater Accra region|       Abossey Okai|\n",
      "| 11|   Gucci Seat Covers|   Brand New|   600|Greater Accra region|       Abossey Okai|\n",
      "| 12|       Police Lights|   Brand New|   400|Greater Accra region|       Abossey Okai|\n",
      "| 13|   Brown Seat Covers|   Brand New|   400|Greater Accra region|       Abossey Okai|\n",
      "| 14|  Fire Extinguishers|   Brand New|    80|Greater Accra region|       Abossey Okai|\n",
      "| 15|  Seat Support Black|   Brand New|   200|Greater Accra region|       Abossey Okai|\n",
      "| 16|    Grey Seat Cover/|   Brand New|   300|Greater Accra region|       Abossey Okai|\n",
      "| 17|      Fender Linning|   Brand New|   200|Greater Accra region|       Abossey Okai|\n",
      "| 18|Jack and Wheel Sp...|   Brand New|   200|Greater Accra region|       Abossey Okai|\n",
      "| 19|Universal Towing ...|   Brand New|   850|Greater Accra region|       Abossey Okai|\n",
      "+---+--------------------+------------+------+--------------------+-------------------+\n",
      "only showing top 20 rows\n",
      "\n"
     ]
    }
   ],
   "source": [
    "df = df.withColumn('Locations', split('Location', ',').getItem(1)).drop('Location').withColumnRenamed('Locations','Location')\n",
    "df.show()"
   ]
  },
  {
   "cell_type": "code",
   "execution_count": 57,
   "metadata": {},
   "outputs": [],
   "source": [
    "df = df.toPandas()\n",
    "df.to_csv(f\"{output_path}/output.csv\")"
   ]
  },
  {
   "cell_type": "code",
   "execution_count": 58,
   "metadata": {},
   "outputs": [],
   "source": [
    "import psycopg2\n",
    "import os\n",
    "def connect_db():\n",
    "    conn = psycopg2.connect(f\"host=127.0.0.1 dbname=tutorial user=etl password=demopass\")\n",
    "    conn.set_session(autocommit=True)\n",
    "    cur = conn.cursor()\n",
    "    \n",
    "    return cur, conn"
   ]
  },
  {
   "cell_type": "code",
   "execution_count": 93,
   "metadata": {},
   "outputs": [],
   "source": [
    "cur, conn = connect_db()\n"
   ]
  },
  {
   "attachments": {},
   "cell_type": "markdown",
   "metadata": {},
   "source": [
    "Create table for Product"
   ]
  },
  {
   "cell_type": "code",
   "execution_count": 94,
   "metadata": {},
   "outputs": [
    {
     "name": "stdout",
     "output_type": "stream",
     "text": [
      "creating product table\n"
     ]
    }
   ],
   "source": [
    "product_table = (\n",
    "    \"\"\"CREATE TABLE IF NOT EXISTS product(\n",
    "        id INT PRIMARY KEY,\n",
    "        Description VARCHAR,\n",
    "        Condition VARCHAR,\n",
    "        Price INT,\n",
    "        Region VARCHAR,\n",
    "        Location VARCHAR\n",
    "        \n",
    "    )\"\"\"\n",
    ")\n",
    "cur.execute(product_table)\n",
    "print(\"creating product table\")\n",
    "conn.commit()"
   ]
  },
  {
   "cell_type": "code",
   "execution_count": 96,
   "metadata": {},
   "outputs": [
    {
     "name": "stdout",
     "output_type": "stream",
     "text": [
      "inserting into product_table\n"
     ]
    }
   ],
   "source": [
    "product_table_insert = (\n",
    "    \"\"\"INSERT INTO product(\n",
    "        id,\n",
    "        Description,\n",
    "        Condition,\n",
    "        Price,\n",
    "        Region,\n",
    "        Location)\n",
    "    VALUES (%s, %s, %s, %s, %s)\n",
    "    \"\"\"\n",
    ")\n",
    "for i, row in df.iterrows():\n",
    "    cur.execute(product_table_insert, list(row))\n",
    "print(\"inserting into product_table\")\n",
    "conn.commit()\n"
   ]
  },
  {
   "cell_type": "code",
   "execution_count": 305,
   "metadata": {},
   "outputs": [],
   "source": [
    "# cur.execute(\"\"\"DROP TABLE IF EXISTS product\"\"\")"
   ]
  }
 ],
 "metadata": {
  "kernelspec": {
   "display_name": "base",
   "language": "python",
   "name": "python3"
  },
  "language_info": {
   "codemirror_mode": {
    "name": "ipython",
    "version": 3
   },
   "file_extension": ".py",
   "mimetype": "text/x-python",
   "name": "python",
   "nbconvert_exporter": "python",
   "pygments_lexer": "ipython3",
   "version": "3.9.12"
  },
  "orig_nbformat": 4,
  "vscode": {
   "interpreter": {
    "hash": "2043299c89c8cd0b4d1a6f5cf4529bd58e6a4e0fe3181a25e0d328c821cdc5c5"
   }
  }
 },
 "nbformat": 4,
 "nbformat_minor": 2
}
