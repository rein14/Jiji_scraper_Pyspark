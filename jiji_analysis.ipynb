{
 "cells": [
  {
   "cell_type": "code",
   "execution_count": 115,
   "metadata": {},
   "outputs": [],
   "source": [
    "from pyspark import SparkContext, SparkConf\n",
    "from pyspark.sql import SparkSession, SQLContext\n",
    "from pyspark.sql.functions import regexp_replace\n",
    "from pyspark.sql.types import IntegerType,DoubleType\n",
    "from pyspark.sql.functions import col\n",
    "from pyspark.sql import functions as F\n",
    "import sys\n",
    "import os\n"
   ]
  },
  {
   "cell_type": "code",
   "execution_count": 118,
   "metadata": {},
   "outputs": [
    {
     "data": {
      "text/html": [
       "\n",
       "            <div>\n",
       "                <p><b>SparkSession - in-memory</b></p>\n",
       "                \n",
       "        <div>\n",
       "            <p><b>SparkContext</b></p>\n",
       "\n",
       "            <p><a href=\"http://DESKTOP-EQ55Q8H:4042\">Spark UI</a></p>\n",
       "\n",
       "            <dl>\n",
       "              <dt>Version</dt>\n",
       "                <dd><code>v3.3.0</code></dd>\n",
       "              <dt>Master</dt>\n",
       "                <dd><code>local</code></dd>\n",
       "              <dt>AppName</dt>\n",
       "                <dd><code>app</code></dd>\n",
       "            </dl>\n",
       "        </div>\n",
       "        \n",
       "            </div>\n",
       "        "
      ],
      "text/plain": [
       "<pyspark.sql.session.SparkSession at 0x2abe662c160>"
      ]
     },
     "execution_count": 118,
     "metadata": {},
     "output_type": "execute_result"
    }
   ],
   "source": [
    "os.environ['PYSPARK_PYTHON'] = sys.executable\n",
    "os.environ['PYSPARK_DRIVER_PYTHON'] = sys.executable\n",
    "conf = SparkConf() \\\n",
    "    .setAppName(\"app\") \\\n",
    "    .setMaster(\"local\") \\\n",
    "    .set(\"spark.driver.extraClassPath\",\"c:/pyspark/*\") \\\n",
    "    .set(\"spark.driver.memory\", \"5g\") \\\n",
    "   \n",
    "\n",
    "sc = SparkContext.getOrCreate(conf=conf)\n",
    "etl = SparkSession(sc)\n",
    "etl"
   ]
  },
  {
   "cell_type": "code",
   "execution_count": 119,
   "metadata": {},
   "outputs": [],
   "source": [
    "df=etl.read.option(\"header\",True).csv(\"./output_data/jiji_output.csv\")"
   ]
  },
  {
   "cell_type": "code",
   "execution_count": 120,
   "metadata": {},
   "outputs": [
    {
     "name": "stdout",
     "output_type": "stream",
     "text": [
      "root\n",
      " |-- id: string (nullable = true)\n",
      " |-- Description: string (nullable = true)\n",
      " |-- Condition: string (nullable = true)\n",
      " |-- Price: string (nullable = true)\n",
      " |-- Location: string (nullable = true)\n",
      "\n"
     ]
    }
   ],
   "source": [
    "df = df[[\n",
    "    'id',\n",
    "    'Description',\n",
    "    'Condition',\n",
    "    'Price',\n",
    "    'Location'\n",
    "\n",
    "]]\n",
    "df.printSchema()"
   ]
  },
  {
   "cell_type": "code",
   "execution_count": 121,
   "metadata": {},
   "outputs": [
    {
     "name": "stdout",
     "output_type": "stream",
     "text": [
      "+---+--------------------+------------+------+--------------------+\n",
      "| id|         Description|   Condition| Price|            Location|\n",
      "+---+--------------------+------------+------+--------------------+\n",
      "|  0|Mercedes-Benz E30...|Foreign Used|355000|Greater Accra, Ea...|\n",
      "|  1|Toyota Ignition Coil|        Used|   150|Greater Accra, Ab...|\n",
      "|  2|        Toyota Tyres|   Brand New|   250|Greater Accra, Ab...|\n",
      "|  3|     Ford F150 Tires|   Brand New|  1100|Greater Accra, Ab...|\n",
      "|  4|Jack and Wheel Sp...|   Brand New|   200|Greater Accra, Ab...|\n",
      "|  5|       Seat Covers20|   Brand New|  1000|Greater Accra, Ab...|\n",
      "|  6|Luxury Black 9D S...|   Brand New|  1000|Greater Accra, Ab...|\n",
      "|  7|All Kinds of Body...|   Brand New|   350|Greater Accra, Ac...|\n",
      "|  8|  Lower Arm Bushings|   Brand New|   100|Greater Accra, Ab...|\n",
      "|  9|(Corolla-2020)All...|        Used| 20000|Greater Accra, Ab...|\n",
      "| 10|Rim 15 Ring Wheel...|   Brand New|   300|Greater Accra, Ab...|\n",
      "| 11|   Gucci Seat Covers|   Brand New|   600|Greater Accra, Ab...|\n",
      "| 12|       Police Lights|   Brand New|   400|Greater Accra, Ab...|\n",
      "| 13|   Brown Seat Covers|   Brand New|   400|Greater Accra, Ab...|\n",
      "| 14|  Fire Extinguishers|   Brand New|    80|Greater Accra, Ab...|\n",
      "| 15|  Seat Support Black|   Brand New|   200|Greater Accra, Ab...|\n",
      "| 16|    Grey Seat Cover/|   Brand New|   300|Greater Accra, Ab...|\n",
      "| 17|      Fender Linning|   Brand New|   200|Greater Accra, Ab...|\n",
      "| 18|Jack and Wheel Sp...|   Brand New|   200|Greater Accra, Ab...|\n",
      "| 19|Universal Towing ...|   Brand New|   850|Greater Accra, Ab...|\n",
      "+---+--------------------+------------+------+--------------------+\n",
      "only showing top 20 rows\n",
      "\n"
     ]
    }
   ],
   "source": [
    "df.show()"
   ]
  },
  {
   "cell_type": "code",
   "execution_count": 123,
   "metadata": {},
   "outputs": [
    {
     "name": "stdout",
     "output_type": "stream",
     "text": [
      "+-------------+-----+\n",
      "|    Condition|count|\n",
      "+-------------+-----+\n",
      "|          New|    1|\n",
      "| Foreign Used|    6|\n",
      "|Ghanaian Used|    7|\n",
      "|         Used|  611|\n",
      "|    Brand New| 1899|\n",
      "+-------------+-----+\n",
      "\n"
     ]
    }
   ],
   "source": [
    "df.groupBy('Condition').count().sort('count').show()"
   ]
  },
  {
   "cell_type": "code",
   "execution_count": 124,
   "metadata": {},
   "outputs": [
    {
     "data": {
      "text/html": [
       "<div>\n",
       "<style scoped>\n",
       "    .dataframe tbody tr th:only-of-type {\n",
       "        vertical-align: middle;\n",
       "    }\n",
       "\n",
       "    .dataframe tbody tr th {\n",
       "        vertical-align: top;\n",
       "    }\n",
       "\n",
       "    .dataframe thead th {\n",
       "        text-align: right;\n",
       "    }\n",
       "</style>\n",
       "<table border=\"1\" class=\"dataframe\">\n",
       "  <thead>\n",
       "    <tr style=\"text-align: right;\">\n",
       "      <th></th>\n",
       "      <th>id</th>\n",
       "      <th>Description</th>\n",
       "      <th>Condition</th>\n",
       "      <th>Price</th>\n",
       "      <th>Location</th>\n",
       "    </tr>\n",
       "  </thead>\n",
       "  <tbody>\n",
       "    <tr>\n",
       "      <th>0</th>\n",
       "      <td>0</td>\n",
       "      <td>0</td>\n",
       "      <td>0</td>\n",
       "      <td>0</td>\n",
       "      <td>0</td>\n",
       "    </tr>\n",
       "  </tbody>\n",
       "</table>\n",
       "</div>"
      ],
      "text/plain": [
       "   id  Description  Condition  Price  Location\n",
       "0   0            0          0      0         0"
      ]
     },
     "execution_count": 124,
     "metadata": {},
     "output_type": "execute_result"
    }
   ],
   "source": [
    "from pyspark.sql.functions import isnan, when, count, col\n",
    "\n",
    "df.select([count(when(isnan(c), c)).alias(c) for c in df.columns]).toPandas().head()\n"
   ]
  },
  {
   "cell_type": "code",
   "execution_count": 129,
   "metadata": {},
   "outputs": [
    {
     "data": {
      "text/plain": [
       "'Greater Accra region'"
      ]
     },
     "execution_count": 129,
     "metadata": {},
     "output_type": "execute_result"
    }
   ],
   "source": [
    "def udf_region(location):\n",
    "    if location.startswith(\"Greater\"):\n",
    "        return \"Greater Accra region\"\n",
    "    if location.startswith(\"Ashanti\"):\n",
    "        return \"Ashanti region\"\n",
    "    if location.startswith(\"Eastern\"):\n",
    "        return \"Eastern region\"\n",
    "    # else:\n",
    "    #     return \"Other region\"\n",
    "\n",
    "udf_region(\"Greater Accra\")"
   ]
  },
  {
   "cell_type": "code",
   "execution_count": 136,
   "metadata": {},
   "outputs": [],
   "source": [
    "from pyspark.sql.functions import udf\n",
    "from pyspark.sql.types import StringType\n",
    "\n",
    "udf = udf(udf_region, StringType())\n",
    "\n",
    "\n",
    "df = df.withColumn('Regions', udf('Location')).drop('Location')"
   ]
  },
  {
   "cell_type": "code",
   "execution_count": 138,
   "metadata": {},
   "outputs": [
    {
     "name": "stdout",
     "output_type": "stream",
     "text": [
      "+---+--------------------+------------+------+--------------------+--------------------+\n",
      "| id|         Description|   Condition| Price|            Location|             Regions|\n",
      "+---+--------------------+------------+------+--------------------+--------------------+\n",
      "|  0|Mercedes-Benz E30...|Foreign Used|355000|Greater Accra, Ea...|Greater Accra region|\n",
      "|  1|Toyota Ignition Coil|        Used|   150|Greater Accra, Ab...|Greater Accra region|\n",
      "|  2|        Toyota Tyres|   Brand New|   250|Greater Accra, Ab...|Greater Accra region|\n",
      "|  3|     Ford F150 Tires|   Brand New|  1100|Greater Accra, Ab...|Greater Accra region|\n",
      "|  4|Jack and Wheel Sp...|   Brand New|   200|Greater Accra, Ab...|Greater Accra region|\n",
      "|  5|       Seat Covers20|   Brand New|  1000|Greater Accra, Ab...|Greater Accra region|\n",
      "|  6|Luxury Black 9D S...|   Brand New|  1000|Greater Accra, Ab...|Greater Accra region|\n",
      "|  7|All Kinds of Body...|   Brand New|   350|Greater Accra, Ac...|Greater Accra region|\n",
      "|  8|  Lower Arm Bushings|   Brand New|   100|Greater Accra, Ab...|Greater Accra region|\n",
      "|  9|(Corolla-2020)All...|        Used| 20000|Greater Accra, Ab...|Greater Accra region|\n",
      "| 10|Rim 15 Ring Wheel...|   Brand New|   300|Greater Accra, Ab...|Greater Accra region|\n",
      "| 11|   Gucci Seat Covers|   Brand New|   600|Greater Accra, Ab...|Greater Accra region|\n",
      "| 12|       Police Lights|   Brand New|   400|Greater Accra, Ab...|Greater Accra region|\n",
      "| 13|   Brown Seat Covers|   Brand New|   400|Greater Accra, Ab...|Greater Accra region|\n",
      "| 14|  Fire Extinguishers|   Brand New|    80|Greater Accra, Ab...|Greater Accra region|\n",
      "| 15|  Seat Support Black|   Brand New|   200|Greater Accra, Ab...|Greater Accra region|\n",
      "| 16|    Grey Seat Cover/|   Brand New|   300|Greater Accra, Ab...|Greater Accra region|\n",
      "| 17|      Fender Linning|   Brand New|   200|Greater Accra, Ab...|Greater Accra region|\n",
      "| 18|Jack and Wheel Sp...|   Brand New|   200|Greater Accra, Ab...|Greater Accra region|\n",
      "| 19|Universal Towing ...|   Brand New|   850|Greater Accra, Ab...|Greater Accra region|\n",
      "+---+--------------------+------------+------+--------------------+--------------------+\n",
      "only showing top 20 rows\n",
      "\n"
     ]
    }
   ],
   "source": [
    "df.show()"
   ]
  },
  {
   "cell_type": "code",
   "execution_count": 139,
   "metadata": {},
   "outputs": [
    {
     "name": "stdout",
     "output_type": "stream",
     "text": [
      "+--------------------+-----+\n",
      "|             Regions|count|\n",
      "+--------------------+-----+\n",
      "|      Ashanti region|    2|\n",
      "|                null|    6|\n",
      "|Greater Accra region| 2516|\n",
      "+--------------------+-----+\n",
      "\n"
     ]
    }
   ],
   "source": [
    "df.groupBy('Regions').count().sort('count').show()"
   ]
  },
  {
   "cell_type": "code",
   "execution_count": null,
   "metadata": {},
   "outputs": [],
   "source": []
  }
 ],
 "metadata": {
  "kernelspec": {
   "display_name": "base",
   "language": "python",
   "name": "python3"
  },
  "language_info": {
   "codemirror_mode": {
    "name": "ipython",
    "version": 3
   },
   "file_extension": ".py",
   "mimetype": "text/x-python",
   "name": "python",
   "nbconvert_exporter": "python",
   "pygments_lexer": "ipython3",
   "version": "3.9.12"
  },
  "orig_nbformat": 4,
  "vscode": {
   "interpreter": {
    "hash": "2043299c89c8cd0b4d1a6f5cf4529bd58e6a4e0fe3181a25e0d328c821cdc5c5"
   }
  }
 },
 "nbformat": 4,
 "nbformat_minor": 2
}
