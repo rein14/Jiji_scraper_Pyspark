{
 "cells": [
  {
   "cell_type": "code",
   "execution_count": 10,
   "metadata": {},
   "outputs": [],
   "source": [
    "import os\n",
    "import time\n",
    "import pandas as pd\n",
    "import requests\n",
    "from bs4 import BeautifulSoup\n",
    "from pyspark import SparkContext, SparkConf\n",
    "from pyspark.sql import SparkSession, SQLContext\n",
    "from pyspark.sql.functions import regexp_replace\n",
    "from pyspark.sql.types import IntegerType,DoubleType\n",
    "from pyspark.sql.functions import col\n"
   ]
  },
  {
   "cell_type": "code",
   "execution_count": 32,
   "metadata": {},
   "outputs": [
    {
     "name": "stdout",
     "output_type": "stream",
     "text": [
      "Directory created: input_data\n",
      "Directory created: output_data\n"
     ]
    }
   ],
   "source": [
    "input = \"input_data\"\n",
    "output = \"output_data\"\n",
    "input_path = os.path.join(os.curdir, input)\n",
    "output_path = os.path.join(os.curdir, output)\n",
    "if not os.path.exists(input_path):\n",
    "    os.mkdir(input_path)\n",
    "    print(f\"Directory created: {input}\")\n",
    "\n",
    "if not os.path.exists(output_path):\n",
    "    os.mkdir(output_path)\n",
    "    print(f\"Directory created: {output}\")"
   ]
  },
  {
   "cell_type": "code",
   "execution_count": 85,
   "metadata": {},
   "outputs": [
    {
     "name": "stdout",
     "output_type": "stream",
     "text": [
      "           Title                      Location  \\\n",
      "0     GH₵ 22,000  Ashanti, Kumasi Metropolitan   \n",
      "1        GH₵ 450   Greater Accra, Abossey Okai   \n",
      "2        GH₵ 160        Greater Accra, Spintex   \n",
      "3        GH₵ 350   Greater Accra, Abossey Okai   \n",
      "4      GH₵ 2,200       Greater Accra, Darkuman   \n",
      "...          ...                           ...   \n",
      "2634   GH₵ 1,800   Greater Accra, Abossey Okai   \n",
      "2635     GH₵ 600   Greater Accra, Abossey Okai   \n",
      "2636   GH₵ 1,200   Greater Accra, Abossey Okai   \n",
      "2637     GH₵ 500   Greater Accra, Abossey Okai   \n",
      "2638     GH₵ 750   Greater Accra, Abossey Okai   \n",
      "\n",
      "                                            description      Condition  \n",
      "0         Toyota Corolla 1.6 Sedan Automatic 2002 Black  Ghanaian Used  \n",
      "1                 Car Mp5 Player With Bluetooth and GPS      Brand New  \n",
      "2                                        Foyu Cam Coder      Brand New  \n",
      "3                                            Sun Shades           Used  \n",
      "4                            Original Rims All in Sizes      Brand New  \n",
      "...                                                 ...            ...  \n",
      "2634                         Highlander 2018 Boot Light      Brand New  \n",
      "2635                           Accent 2019 Front Grille      Brand New  \n",
      "2636               Jeep/ Grand Cherokee Front Upper Arm      Brand New  \n",
      "2637                               Kia Canivan New Type           Used  \n",
      "2638  Honda Accord 2012-2015 Front TOP GRILLE Available      Brand New  \n",
      "\n",
      "[2639 rows x 4 columns]\n"
     ]
    }
   ],
   "source": [
    "def get_category(url, file_name):\n",
    "    product_list = []\n",
    "\n",
    "    pages = 150\n",
    "\n",
    "    for page in range(1, pages):\n",
    "        resp = requests.get(url+f\"?page={page}\")\n",
    "        content = BeautifulSoup(resp.content, \"html.parser\")\n",
    "        for product in content.select(\"div.product__content\"):\n",
    "            try:\n",
    "                data = {\n",
    "                    \"Title\": product.select(\"span.product__title\")[0].get_text().strip(),\n",
    "                    \"Location\": product.select(\"p.product__location\")[0].get_text().strip(),\n",
    "                    \"description\": product.select(\"p.product__description\")[0].get_text().strip(),\n",
    "                    \"Condition\": product.select(\"div.product__tags span\")[0].get_text().strip()\n",
    "                }\n",
    "            except IndexError:\n",
    "                continue\n",
    "        \n",
    "            product_list.append(data)\n",
    "        time.sleep(2)\n",
    "    dataframe = pd.DataFrame(product_list)\n",
    "    print(dataframe)\n",
    "    dataframe.to_csv(file_name)\n",
    "\n",
    "url =\"https://tonaton.com/c_vehicles\"\n",
    "\n",
    "get_category(url, f\"pro.csv\")"
   ]
  },
  {
   "cell_type": "code",
   "execution_count": 6,
   "metadata": {},
   "outputs": [],
   "source": [
    "\n",
    "conf = SparkConf() \\\n",
    "    .setAppName(\"jiji-scraper-etl\") \\\n",
    "    .setMaster(\"local\") \\\n",
    "    .set(\"spark.driver.extraClassPath\",\"c:/pyspark/*\")\n",
    "sc = SparkContext.getOrCreate(conf=conf)\n",
    "etl = SparkSession(sc)"
   ]
  },
  {
   "cell_type": "code",
   "execution_count": 41,
   "metadata": {},
   "outputs": [],
   "source": [
    "df=etl.read.option(\"header\",True).csv(\"pro.csv\")"
   ]
  },
  {
   "cell_type": "code",
   "execution_count": 42,
   "metadata": {},
   "outputs": [
    {
     "data": {
      "text/html": [
       "<div>\n",
       "<style scoped>\n",
       "    .dataframe tbody tr th:only-of-type {\n",
       "        vertical-align: middle;\n",
       "    }\n",
       "\n",
       "    .dataframe tbody tr th {\n",
       "        vertical-align: top;\n",
       "    }\n",
       "\n",
       "    .dataframe thead th {\n",
       "        text-align: right;\n",
       "    }\n",
       "</style>\n",
       "<table border=\"1\" class=\"dataframe\">\n",
       "  <thead>\n",
       "    <tr style=\"text-align: right;\">\n",
       "      <th></th>\n",
       "      <th>_c0</th>\n",
       "      <th>Title</th>\n",
       "      <th>Location</th>\n",
       "      <th>description</th>\n",
       "      <th>Condition</th>\n",
       "    </tr>\n",
       "  </thead>\n",
       "  <tbody>\n",
       "    <tr>\n",
       "      <th>0</th>\n",
       "      <td>0</td>\n",
       "      <td>GH₵ 22,000</td>\n",
       "      <td>Ashanti, Kumasi Metropolitan</td>\n",
       "      <td>Toyota Corolla 1.6 Sedan Automatic 2002 Black</td>\n",
       "      <td>Ghanaian Used</td>\n",
       "    </tr>\n",
       "    <tr>\n",
       "      <th>1</th>\n",
       "      <td>1</td>\n",
       "      <td>GH₵ 450</td>\n",
       "      <td>Greater Accra, Abossey Okai</td>\n",
       "      <td>Car Mp5 Player With Bluetooth and GPS</td>\n",
       "      <td>Brand New</td>\n",
       "    </tr>\n",
       "    <tr>\n",
       "      <th>2</th>\n",
       "      <td>2</td>\n",
       "      <td>GH₵ 160</td>\n",
       "      <td>Greater Accra, Spintex</td>\n",
       "      <td>Foyu Cam Coder</td>\n",
       "      <td>Brand New</td>\n",
       "    </tr>\n",
       "    <tr>\n",
       "      <th>3</th>\n",
       "      <td>3</td>\n",
       "      <td>GH₵ 350</td>\n",
       "      <td>Greater Accra, Abossey Okai</td>\n",
       "      <td>Sun Shades</td>\n",
       "      <td>Used</td>\n",
       "    </tr>\n",
       "    <tr>\n",
       "      <th>4</th>\n",
       "      <td>4</td>\n",
       "      <td>GH₵ 2,200</td>\n",
       "      <td>Greater Accra, Darkuman</td>\n",
       "      <td>Original Rims All in Sizes</td>\n",
       "      <td>Brand New</td>\n",
       "    </tr>\n",
       "    <tr>\n",
       "      <th>...</th>\n",
       "      <td>...</td>\n",
       "      <td>...</td>\n",
       "      <td>...</td>\n",
       "      <td>...</td>\n",
       "      <td>...</td>\n",
       "    </tr>\n",
       "    <tr>\n",
       "      <th>2637</th>\n",
       "      <td>2634</td>\n",
       "      <td>GH₵ 1,800</td>\n",
       "      <td>Greater Accra, Abossey Okai</td>\n",
       "      <td>Highlander 2018 Boot Light</td>\n",
       "      <td>Brand New</td>\n",
       "    </tr>\n",
       "    <tr>\n",
       "      <th>2638</th>\n",
       "      <td>2635</td>\n",
       "      <td>GH₵ 600</td>\n",
       "      <td>Greater Accra, Abossey Okai</td>\n",
       "      <td>Accent 2019 Front Grille</td>\n",
       "      <td>Brand New</td>\n",
       "    </tr>\n",
       "    <tr>\n",
       "      <th>2639</th>\n",
       "      <td>2636</td>\n",
       "      <td>GH₵ 1,200</td>\n",
       "      <td>Greater Accra, Abossey Okai</td>\n",
       "      <td>Jeep/ Grand Cherokee Front Upper Arm</td>\n",
       "      <td>Brand New</td>\n",
       "    </tr>\n",
       "    <tr>\n",
       "      <th>2640</th>\n",
       "      <td>2637</td>\n",
       "      <td>GH₵ 500</td>\n",
       "      <td>Greater Accra, Abossey Okai</td>\n",
       "      <td>Kia Canivan New Type</td>\n",
       "      <td>Used</td>\n",
       "    </tr>\n",
       "    <tr>\n",
       "      <th>2641</th>\n",
       "      <td>2638</td>\n",
       "      <td>GH₵ 750</td>\n",
       "      <td>Greater Accra, Abossey Okai</td>\n",
       "      <td>Honda Accord 2012-2015 Front TOP GRILLE Available</td>\n",
       "      <td>Brand New</td>\n",
       "    </tr>\n",
       "  </tbody>\n",
       "</table>\n",
       "<p>2642 rows × 5 columns</p>\n",
       "</div>"
      ],
      "text/plain": [
       "       _c0       Title                      Location  \\\n",
       "0        0  GH₵ 22,000  Ashanti, Kumasi Metropolitan   \n",
       "1        1     GH₵ 450   Greater Accra, Abossey Okai   \n",
       "2        2     GH₵ 160        Greater Accra, Spintex   \n",
       "3        3     GH₵ 350   Greater Accra, Abossey Okai   \n",
       "4        4   GH₵ 2,200       Greater Accra, Darkuman   \n",
       "...    ...         ...                           ...   \n",
       "2637  2634   GH₵ 1,800   Greater Accra, Abossey Okai   \n",
       "2638  2635     GH₵ 600   Greater Accra, Abossey Okai   \n",
       "2639  2636   GH₵ 1,200   Greater Accra, Abossey Okai   \n",
       "2640  2637     GH₵ 500   Greater Accra, Abossey Okai   \n",
       "2641  2638     GH₵ 750   Greater Accra, Abossey Okai   \n",
       "\n",
       "                                            description      Condition  \n",
       "0         Toyota Corolla 1.6 Sedan Automatic 2002 Black  Ghanaian Used  \n",
       "1                 Car Mp5 Player With Bluetooth and GPS      Brand New  \n",
       "2                                        Foyu Cam Coder      Brand New  \n",
       "3                                            Sun Shades           Used  \n",
       "4                            Original Rims All in Sizes      Brand New  \n",
       "...                                                 ...            ...  \n",
       "2637                         Highlander 2018 Boot Light      Brand New  \n",
       "2638                           Accent 2019 Front Grille      Brand New  \n",
       "2639               Jeep/ Grand Cherokee Front Upper Arm      Brand New  \n",
       "2640                               Kia Canivan New Type           Used  \n",
       "2641  Honda Accord 2012-2015 Front TOP GRILLE Available      Brand New  \n",
       "\n",
       "[2642 rows x 5 columns]"
      ]
     },
     "execution_count": 42,
     "metadata": {},
     "output_type": "execute_result"
    }
   ],
   "source": [
    "df.toPandas()"
   ]
  },
  {
   "cell_type": "code",
   "execution_count": 43,
   "metadata": {},
   "outputs": [],
   "source": [
    "df=df.select(\n",
    "    \"description\",\n",
    "    \"Condition\",\n",
    "    \"title\",\n",
    "    \"Location\"\n",
    ").withColumnRenamed('title', 'Price').withColumnRenamed('description', 'Description').\\\n",
    "    withColumn('Price', regexp_replace('Price', r'[GH₵]', '')).withColumn(\"Price\",col(\"Price\").cast(DoubleType()))"
   ]
  },
  {
   "cell_type": "code",
   "execution_count": 44,
   "metadata": {},
   "outputs": [
    {
     "name": "stdout",
     "output_type": "stream",
     "text": [
      "root\n",
      " |-- Description: string (nullable = true)\n",
      " |-- Condition: string (nullable = true)\n",
      " |-- Price: double (nullable = true)\n",
      " |-- Location: string (nullable = true)\n",
      "\n"
     ]
    }
   ],
   "source": [
    "df.printSchema()"
   ]
  },
  {
   "cell_type": "code",
   "execution_count": 45,
   "metadata": {},
   "outputs": [],
   "source": [
    "df = df.toPandas()\n",
    "df.to_csv(output_path+'/jiji_output.csv')"
   ]
  },
  {
   "cell_type": "code",
   "execution_count": null,
   "metadata": {},
   "outputs": [],
   "source": []
  }
 ],
 "metadata": {
  "kernelspec": {
   "display_name": "base",
   "language": "python",
   "name": "python3"
  },
  "language_info": {
   "codemirror_mode": {
    "name": "ipython",
    "version": 3
   },
   "file_extension": ".py",
   "mimetype": "text/x-python",
   "name": "python",
   "nbconvert_exporter": "python",
   "pygments_lexer": "ipython3",
   "version": "3.9.12"
  },
  "orig_nbformat": 4,
  "vscode": {
   "interpreter": {
    "hash": "2043299c89c8cd0b4d1a6f5cf4529bd58e6a4e0fe3181a25e0d328c821cdc5c5"
   }
  }
 },
 "nbformat": 4,
 "nbformat_minor": 2
}
